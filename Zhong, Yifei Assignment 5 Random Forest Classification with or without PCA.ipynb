{
 "cells": [
  {
   "cell_type": "markdown",
   "metadata": {},
   "source": [
    "**This study utilizes the MNIST data set to test how using PCA as a preliminary to random forest classifier will impact the predictive accuracy of the model as well as the time spent on model development and implementation.**\n",
    "\n",
    "**The first 60 thousands observations of MNIST data set are used as train set while the rest is holdout as test set. We first train a random forest classifier (Model 1) on the train set and evaluate the model's performance on the holdout test set with F1 score. The time spent on developing and implementing Model 1 is recorded and stored, so dose the F1 value. In the second stage, we utilize Pipeline to conduct PCA transformation on the train set before train the transformed train set with a random forest classifier (Model 2). The performance of Model 2 is evaluated on the holdout test set as well with F1 score as performance index. The time spent on developing and implementing Model 2 is also recorded and stored.**\n",
    "\n",
    "**When comparing the two models on their predictive accuracy (F1 score) and development/implementation time, we notice that Model 1 which preserve all the dimensions of the original MNIST data set, achieves higher accuracy with a higher F1 score than Model 2 which preserve 95% of the variability in the original explanatory variables. Model 2 also takes 353.6% more time to develop and implement than Model 1.**\n",
    "\n",
    "**Based on the result, it is recommended to the management not to use PCA as preliminary approach for random forest classification as it neither improves the predictive accuracy nor decrease time on model development and implementation. There are a few reasons which lead to the result. First, random forest classifier performs well on high dimensions without transformation/regularization as it's transformation invariant. While PCA can reduce ddimensionality of the data set dramatically, the default setting of max_feature parameter in randomforestcalssifier is sqrt(features). This means that the difference between the number of features to consider when looking for the best split before or after PCA transformation is smaller than it may have appeared. Additionally, random forest classifier iterates over possible splits that optimize the criterion. By reducing the number of features, we might have made it more difficult to find the split, leading the algorithm to perform more iterations in order to find a good split.**\n",
    "\n",
    "**It is important to point out that the conclusion drawn from this study doesn’t necessarily apply to other machine learning classification algorithms, such as SVM or neutral network which are sensitive to data transformation. For algorithms like SVM and neutral network, PCA transformation will most likely improve the model’s predictive performance. Take neutral network as an example, most of the real-world data samples used to train artificial neural networks (ANNs) consist of correlated information caused by overlapping input instances. Correlation in sampled data normally creates confusion over ANNs during the learning process and thus, degrades their generalization capability. (Mohamad-Saleh & Hoyle 2008). Since PCA can eliminate correlated information through dimensionality reduction, therefore, using PCA as preliminary process to neutral network classifier will likely improve the model’s performance.**"
   ]
  },
  {
   "cell_type": "markdown",
   "metadata": {},
   "source": [
    "# SETUP"
   ]
  },
  {
   "cell_type": "markdown",
   "metadata": {},
   "source": [
    "Seed value for random number generators to obtain reproducible results"
   ]
  },
  {
   "cell_type": "code",
   "execution_count": 1,
   "metadata": {},
   "outputs": [],
   "source": [
    "RANDOM_SEED = 1"
   ]
  },
  {
   "cell_type": "markdown",
   "metadata": {},
   "source": [
    "Import base packages into the namespace for this program"
   ]
  },
  {
   "cell_type": "code",
   "execution_count": 2,
   "metadata": {},
   "outputs": [],
   "source": [
    "import numpy as np\n",
    "import pandas as pd"
   ]
  },
  {
   "cell_type": "markdown",
   "metadata": {},
   "source": [
    "Visualization setup"
   ]
  },
  {
   "cell_type": "code",
   "execution_count": 3,
   "metadata": {},
   "outputs": [],
   "source": [
    "import matplotlib\n",
    "import matplotlib.pyplot as plt"
   ]
  },
  {
   "cell_type": "markdown",
   "metadata": {},
   "source": [
    "Classification performance scoring code adopted from Scikit Learn documentation"
   ]
  },
  {
   "cell_type": "code",
   "execution_count": 4,
   "metadata": {},
   "outputs": [],
   "source": [
    "from sklearn.metrics import f1_score"
   ]
  },
  {
   "cell_type": "markdown",
   "metadata": {},
   "source": [
    "Specify the set of classifiers being evaluated"
   ]
  },
  {
   "cell_type": "code",
   "execution_count": 5,
   "metadata": {},
   "outputs": [],
   "source": [
    "from sklearn.ensemble import RandomForestClassifier\n",
    "from sklearn.pipeline import Pipeline\n",
    "from sklearn.decomposition import PCA\n",
    "from sklearn.preprocessing import StandardScaler"
   ]
  },
  {
   "cell_type": "markdown",
   "metadata": {},
   "source": [
    "# MNIST DATASET "
   ]
  },
  {
   "cell_type": "markdown",
   "metadata": {},
   "source": [
    "Import data Scikit Learn"
   ]
  },
  {
   "cell_type": "code",
   "execution_count": 6,
   "metadata": {},
   "outputs": [
    {
     "name": "stderr",
     "output_type": "stream",
     "text": [
      "C:\\Users\\feifa\\Anaconda3\\lib\\site-packages\\sklearn\\utils\\deprecation.py:77: DeprecationWarning: Function fetch_mldata is deprecated; fetch_mldata was deprecated in version 0.20 and will be removed in version 0.22\n",
      "  warnings.warn(msg, category=DeprecationWarning)\n",
      "C:\\Users\\feifa\\Anaconda3\\lib\\site-packages\\sklearn\\utils\\deprecation.py:77: DeprecationWarning: Function mldata_filename is deprecated; mldata_filename was deprecated in version 0.20 and will be removed in version 0.22\n",
      "  warnings.warn(msg, category=DeprecationWarning)\n"
     ]
    }
   ],
   "source": [
    "from sklearn.datasets import fetch_mldata\n",
    "mnist = fetch_mldata('MNIST original')"
   ]
  },
  {
   "cell_type": "markdown",
   "metadata": {},
   "source": [
    "Define arrays from the complete data set and show structure of numpy arrays. Code adapted from Miller (2017) exploring-mnist-v001.py."
   ]
  },
  {
   "cell_type": "code",
   "execution_count": 7,
   "metadata": {},
   "outputs": [
    {
     "name": "stdout",
     "output_type": "stream",
     "text": [
      "\n",
      " Structure of explanatory variable array: (70000, 784)\n",
      "\n",
      " Structure of response array: (70000,)\n"
     ]
    }
   ],
   "source": [
    "X, y = mnist['data'], mnist['target']\n",
    "print('\\n Structure of explanatory variable array:', X.shape)\n",
    "print('\\n Structure of response array:', y.shape)"
   ]
  },
  {
   "cell_type": "markdown",
   "metadata": {},
   "source": [
    "Visualize the the sequential organization of the MNIST data with index plot. Code adapted from Miller (2017) exploring-mnist-v001.py."
   ]
  },
  {
   "cell_type": "code",
   "execution_count": 8,
   "metadata": {},
   "outputs": [
    {
     "data": {
      "text/plain": [
       "[<matplotlib.lines.Line2D at 0x1a99d02c7f0>]"
      ]
     },
     "execution_count": 8,
     "metadata": {},
     "output_type": "execute_result"
    },
    {
     "data": {
      "image/png": "[encoded data removed]",
      "text/plain": [
       "<Figure size 432x288 with 1 Axes>"
      ]
     },
     "metadata": {},
     "output_type": "display_data"
    }
   ],
   "source": [
    "fig, axis = plt.subplots()\n",
    "axis.set_xlabel('Sequence/Index number within MNIST Data Set')\n",
    "axis.set_ylabel('MNIST Digit')\n",
    "plt.title('Index Plot of MNIST Data Set')\n",
    "plt.plot(y[:,])"
   ]
  },
  {
   "cell_type": "markdown",
   "metadata": {},
   "source": [
    "As we can see in the above graphic, the first 60 thousand observations which will be used as training data cover 0-9 ten digits. The observations are arranged in order, which means zeros come before ones, ones before twos, and so on. Some learning\n",
    "algorithms are sensitive to the order of the training instances, and they perform poorly if they get many similar instances in a row. Shuffling the dataset ensures that this won’t happen. (Géron, 2017). Therefore, we will shuffle the train set before applying any machine learning algorithms. "
   ]
  },
  {
   "cell_type": "markdown",
   "metadata": {},
   "source": [
    "Examine the frequency distributions for the digits using pandas DataFrame to see if the data set is imbalanced. Code adapted from Miller (2017) exploring-mnist-v001.py."
   ]
  },
  {
   "cell_type": "code",
   "execution_count": 9,
   "metadata": {},
   "outputs": [
    {
     "name": "stdout",
     "output_type": "stream",
     "text": [
      "\n",
      "Frequency distribution for observations\n",
      "5.0    6313\n",
      "4.0    6824\n",
      "8.0    6825\n",
      "6.0    6876\n",
      "0.0    6903\n",
      "9.0    6958\n",
      "2.0    6990\n",
      "3.0    7141\n",
      "7.0    7293\n",
      "1.0    7877\n",
      "Name: label, dtype: int64\n"
     ]
    }
   ],
   "source": [
    "mnist_df = pd.DataFrame({'label': y}) \n",
    "print('\\nFrequency distribution for observations')\n",
    "print(mnist_df['label'].value_counts(ascending = True)) "
   ]
  },
  {
   "cell_type": "markdown",
   "metadata": {},
   "source": [
    "Split the data set to train and holdout test"
   ]
  },
  {
   "cell_type": "code",
   "execution_count": 10,
   "metadata": {},
   "outputs": [],
   "source": [
    "X_train, X_test, y_train, y_test = X[:60000], X[60000:], y[:60000], y[60000:]"
   ]
  },
  {
   "cell_type": "markdown",
   "metadata": {},
   "source": [
    "Shuffle train set. Code adapted from Géron (2017) Python notebook Chapter 3."
   ]
  },
  {
   "cell_type": "code",
   "execution_count": 11,
   "metadata": {},
   "outputs": [],
   "source": [
    "shuffle_index = np.random.permutation(60000)\n",
    "X_train, y_train = X_train[shuffle_index], y_train[shuffle_index]"
   ]
  },
  {
   "cell_type": "code",
   "execution_count": 12,
   "metadata": {},
   "outputs": [
    {
     "name": "stdout",
     "output_type": "stream",
     "text": [
      "\n",
      " Structure of explanatory variable array of train set after shuffling: (60000, 784)\n",
      "\n",
      " Structure of response array of train set after shuffling: (60000,)\n"
     ]
    }
   ],
   "source": [
    "print('\\n Structure of explanatory variable array of train set after shuffling:', \n",
    "      X_train.shape)\n",
    "print('\\n Structure of response array of train set after shuffling:', y_train.shape)"
   ]
  },
  {
   "cell_type": "markdown",
   "metadata": {},
   "source": [
    "# Multiclass Classification"
   ]
  },
  {
   "cell_type": "markdown",
   "metadata": {},
   "source": [
    "Setup to record the time it takes to fit and evaluate Model 1 (without PCA transformation). It is sufficient to run a single time-elapsed test (replications = 1) for this assignment. Code adapted from run_python_runif_jump_start.py."
   ]
  },
  {
   "cell_type": "code",
   "execution_count": 13,
   "metadata": {},
   "outputs": [],
   "source": [
    "import time\n",
    "test_time = [] \n",
    "f1 = []"
   ]
  },
  {
   "cell_type": "markdown",
   "metadata": {},
   "source": [
    "Fitting a random forest classifier using the full set of 784 explanatory variables and the model training set. Record the time it takes to fit the model and evaluate the model on the holdout data. "
   ]
  },
  {
   "cell_type": "code",
   "execution_count": 14,
   "metadata": {},
   "outputs": [],
   "source": [
    "start_time = time.clock()\n",
    "rnd_clf = RandomForestClassifier(n_estimators=10, max_features='sqrt', \n",
    "                                 n_jobs=-1, bootstrap = True, \n",
    "                                 random_state=RANDOM_SEED)\n",
    "rnd_clf.fit(X_train, y_train)\n",
    "y_test_predict = rnd_clf.predict(X_test)\n",
    "f1_rnd = f1_score(y_test, y_test_predict,average='micro')\n",
    "end_time = time.clock()\n",
    "\n",
    "runtime = end_time - start_time \n",
    "test_time.append(runtime*1000)  # report in milliseconds\n",
    "f1.append(f1_rnd)"
   ]
  },
  {
   "cell_type": "markdown",
   "metadata": {},
   "source": [
    "For measuring the generalization error and prevent data leakage, we will do the PCA transformation on the train set and use the eigenvectors to transform the holdout test set into the same principal component space. To achieve this goal, we can create a Pipeline containing a PCA transformer, followed by a RandomForestClassifier. "
   ]
  },
  {
   "cell_type": "code",
   "execution_count": 15,
   "metadata": {},
   "outputs": [],
   "source": [
    "start_time = time.clock()\n",
    "pca_clf = Pipeline([\n",
    "    (\"pca\", PCA(n_components=0.95)),\n",
    "    (\"randomforest\", RandomForestClassifier(n_estimators=10, max_features='sqrt', \n",
    "                                            n_jobs=-1,bootstrap = True, \n",
    "                                            random_state=RANDOM_SEED))])\n",
    "pca_clf.fit(X_train, y_train)\n",
    "y_test_pca_predict = pca_clf.predict(X_test)\n",
    "f1_pca = f1_score(y_test, y_test_pca_predict, average = 'micro')\n",
    "end_time = time.clock()\n",
    "\n",
    "runtime = end_time - start_time \n",
    "test_time.append(runtime * 1000)  # report in milliseconds\n",
    "f1.append(f1_pca)"
   ]
  },
  {
   "cell_type": "code",
   "execution_count": 16,
   "metadata": {},
   "outputs": [
    {
     "name": "stdout",
     "output_type": "stream",
     "text": [
      "Time Spent to Conduct Analysis:\n",
      "\n",
      "   RandomForest  RandomForest with PCA\n",
      "0   2027.237776            9195.751532\n"
     ]
    }
   ],
   "source": [
    "test_time_df = pd.DataFrame(test_time).T\n",
    "test_time_df.columns = ('RandomForest', 'RandomForest with PCA')\n",
    "print('Time Spent to Conduct Analysis:\\n')\n",
    "print(test_time_df)"
   ]
  },
  {
   "cell_type": "code",
   "execution_count": 17,
   "metadata": {},
   "outputs": [
    {
     "name": "stdout",
     "output_type": "stream",
     "text": [
      "Performance Comparison with F1 score:\n",
      "\n",
      "   RandomForest  RandomForest with PCA\n",
      "0        0.9458                 0.8925\n"
     ]
    }
   ],
   "source": [
    "f1_df = pd.DataFrame(f1).T\n",
    "f1_df.columns = ('RandomForest', 'RandomForest with PCA')\n",
    "print('Performance Comparison with F1 score:\\n')\n",
    "print(f1_df)"
   ]
  },
  {
   "cell_type": "code",
   "execution_count": 22,
   "metadata": {},
   "outputs": [
    {
     "name": "stdout",
     "output_type": "stream",
     "text": [
      "Time increased by using PCA as preliminary process: 353.6%\n"
     ]
    }
   ],
   "source": [
    "time_increase = (test_time_df.iloc[0,1] - \n",
    "                 test_time_df.iloc[0,0])/test_time_df.iloc[0,0]\n",
    "print('Time increased by using PCA as preliminary process: {:.1%}'\n",
    "      .format(time_increase))"
   ]
  },
  {
   "cell_type": "code",
   "execution_count": 20,
   "metadata": {},
   "outputs": [
    {
     "name": "stdout",
     "output_type": "stream",
     "text": [
      "Predictive accuracy decreased by useing PCA as preliminary process: 5.6%\n"
     ]
    }
   ],
   "source": [
    "accuracy_decrease = (f1_df.iloc[0,0] - f1_df.iloc[0,1])/f1_df.iloc[0,0]\n",
    "print('Predictive accuracy decreased by useing PCA as preliminary process: {:.1%}'\n",
    "      .format(accuracy_decrease))"
   ]
  },
  {
   "cell_type": "markdown",
   "metadata": {},
   "source": [
    "As we can see, using PCA as preliminary to random forest classification decreases the model's predictive accuracy while significantly increases the time spent on model development and implementation. While the 5.6% decrease in predictive accuracy may not be a big concern, depending on the specific application of the model, the drastically increased time on building and implementing the model will lead to higher cost for companies. Therefore, it is not recommended to use PCA as preliminary to random forest classifier."
   ]
  },
  {
   "cell_type": "markdown",
   "metadata": {},
   "source": [
    "Random forest classifier is transformation invariant. This means that transforming or regularizing data, such as the PCA transformation tested in this study, will not lead to a better performance of random forest classifier. On the other side, random forest classifier works by looking at possible splits and picking the ones optimize a certain criteria. By reducing the number of features, we might have made it more difficult to find the split, leading the algorithm to perform more iterations in order to find a good split."
   ]
  },
  {
   "cell_type": "code",
   "execution_count": null,
   "metadata": {},
   "outputs": [],
   "source": []
  }
 ],
 "metadata": {
  "kernelspec": {
   "display_name": "Python 3",
   "language": "python",
   "name": "python3"
  },
  "language_info": {
   "codemirror_mode": {
    "name": "ipython",
    "version": 3
   },
   "file_extension": ".py",
   "mimetype": "text/x-python",
   "name": "python",
   "nbconvert_exporter": "python",
   "pygments_lexer": "ipython3",
   "version": "3.6.8"
  }
 },
 "nbformat": 4,
 "nbformat_minor": 2
}
